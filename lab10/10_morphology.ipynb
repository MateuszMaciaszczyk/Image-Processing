{
 "cells": [
  {
   "cell_type": "markdown",
   "metadata": {
    "id": "NnDX1AhkKHGr"
   },
   "source": [
    "# Przekształcenia morfologiczne\n",
    "\n",
    "## Cel:\n",
    "- zapoznanie z podstawowymi przekształceniami morfologicznymi – erozją, dylatacją, otwarciem, zamknięciem, transformacją trafi, nie trafi,\n",
    "- zapoznanie ze złożonymi operacjami morfologicznymi wykorzystującymi rekonstrukcję morfologiczną,\n",
    "- zapoznanie z operacjami morfologicznym dla obrazów w odcieniach szarości – erozją, dylatacją, otwarciem, zamknięciem, filtrami top-hat i bottom-hat,\n",
    "- zapoznanie z wykorzystaniem złożonych operacji morfologicznych przy rozwiązywaniu konkretnego problemu,\n",
    "- zadanie domowe: wykorzystanie morfologii do implementacji ,,gry w życie''."
   ]
  },
  {
   "cell_type": "markdown",
   "metadata": {
    "id": "CbPVOPm8KHGx"
   },
   "source": [
    "## Przypomnienie teorii\n",
    "\n",
    "### Element strukturalny\n",
    "\n",
    "Element strukturalny obrazu jest to pewien wycinek obrazu (przy dyskretnej reprezentacji obrazu – pewien podzbiór jego elementów).\n",
    "Najczęściej stosowanym elementem strukturalnym jest kwadratowa maska o rozmiarze 3×3 lub 5×5. Niekiedy pożądane są maski o innym kształcie, np. zbliżonym do elipsy.\n",
    "\n",
    "### Erozja\n",
    "\n",
    "Erozja (ang. _erosion_) jest podstawowym przekształceniem morfologicznym.\n",
    "Zakładamy, że obraz wyjściowy zawiera pewien obszar (figurę) X, wyróżniający się pewną charakterystyczną cechą (np. odróżniającą się od tła jasnością).\n",
    "Figura X po wykonaniu operacji erozji to zbiór punktów centralnych wszystkich elementów strukturalnych, które w całości mieszczą się we wnętrzu obszaru X.\n",
    "Miarą stopnia erozji jest wielkość elementu strukturalnego.\n",
    "\n",
    "**Erozję** można traktować jako **filtr minimalny**, tj. z danego otoczenia piksela (określanego przez maskę) do obrazu wynikowego wybierana jest wartość minimalna.\n",
    "\n",
    "### Dylatacja\n",
    "\n",
    "Dylatacja (ang. _dilation_): Zakładamy, że obraz wejściowy zawiera obszar X wyróżniający się pewną charakterystyczną cechą (np. jasnością). Figura przekształcona przez dylatacje to zbiór punktów centralnych wszystkich elementów strukturalnych, których którykolwiek punkt mieści sie we wnętrzu obszaru X. Miarą  dylatacji jest wielkość elementu strukturalnego.\n",
    "\n",
    "**Dylatację** można traktować jako **filtr maksymalny**, tj. z danego otoczenia piksela (określanego\n",
    "przez maskę) do obrazu wynikowego wybierana jest wartość maksymalna.\n",
    "\n",
    "### Otwarcie i zamknięcie\n",
    "\n",
    "Otwarcie (ang. _opening_) polega na wykonaniu najpierw operacji erozji, a następnie dylatacji.\n",
    "\n",
    "> Otwarcie = erozja + dylatacja\n",
    "\n",
    "Zamkniecie (ang. _closing_) polega na wykonaniu najpierw operacji dylatacji, a następnie erozji.\n",
    "\n",
    "> Zamkniecie = dylatacja + erozja\n",
    "\n",
    "### Obrazy w odcieniu szarości\n",
    "\n",
    "Obrazy w odcieniu szarości – detekcja dolin i szczytów (ang. _top-hat_, _bottom-hat_):\n",
    "\n",
    "Aby wyodrębnić z obrazu lokalne ekstrema można wykorzystać zdefiniowane wcześniej przekształcenia: otwarcie i zamkniecie.\n",
    "W celu wyszukania lokalnych maksimów (szczytów) należy od wyniku otwarcia danego obrazu odjąć obraz wyjściowy.\n",
    "Analogicznie, aby wyodrębnić lokalne minima obrazu, należy dokonać podobnej operacji, z tym że pierwszą operacją bedzie zamknięcie.\n",
    "Uwaga! Należy zwrócić uwagę, że poniższe metody służą do detekcji (pokreślenia) tylko lokalnych ekstremów!"
   ]
  },
  {
   "cell_type": "markdown",
   "metadata": {
    "id": "_mWYIIJBKHGz"
   },
   "source": [
    "## Podstawowe operacje morfologiczne: erozja, dylatacja, otwarcie, zamknięcie, trafi nie trafi\n",
    "\n",
    "1. Wczytaj obraz ertka.bmp\n",
    "2. Wykonaj operację erozji `cv2.erode`. Parametrami funkcji są obraz oraz element strukturalny. Element można stworzyć samodzielnie jako tablicę składającą się z 0 i 1 `np.ones((3,3))` lub posłużyć się funkcją `cv2.getStructuringElement`, do której należy podać kształt `cv2.MORPH_RECT` oraz wielkość elementu `(3,3)`. Na początku użyj kwadratu o rozmiarze 3 pikseli.\n",
    "3. Wyświetl obraz oryginalny oraz po wykonaniu erozji – najlepiej na wspólnym wykresie. Upewnij się, że rozumiesz, jak działa erozja.\n",
    "4. Zmień element strukturalny (inny kształt – koło, diament lub inny rozmiar). Ponownie wykonaj erozję, sprawdź rezultat działania operacji.\n",
    "5. Oprócz zmiany elementu strukturalnego na rezultat erozji można wpłynąć zwiększając liczbę iteracji (np. wykonać erozję trzykrotnie). Ustal element strukturalny na kwadrat o boku 3 piksele. Wykonaj erozję obrazu _ertka_ dwukrotnie, a następnie trzykrotnie. Zaobserwuj rezultaty. Wskazówka: warto zajrzeć do dokumentacji funkcji `erode`.\n",
    "6. Wczytaj obraz buzka.bmp. Dobierz element strukturalny (zdefiniuj go ręcznie jako macierz 0 i 1) w taki sposób, aby usunąć włosy o określonej orientacji (ukośnie lewo lub prawo).\n",
    "7. Uwaga: pokazane metody wpływania na rezultaty erozji wykorzystuje się identycznie dla pozostałych operacji morfologicznych – dylatacji, otwarcia i zamknięcia.\n",
    "8. Operacją odwrotną do erozji jest dylatacja `cv2.dilate`. Ustal element strukturalny na kwadrat o boku 3 piksele. Wykonaj dylatację obrazu _ertka_. Zapoznaj się z rezultatem działania.\n",
    "9. Na wspólnym wykresie wyświetl obraz oryginalny oraz obrazy po operacjach morfologicznych: erozja, dylatacja, otwarcie i zamkniecie. Otwarcie i zamknięcie można uzyskać za pomocą `cv2.morphologyEx(img, operacja, element_strukturalny)`, gdzie typem operacji jest `cv2.MORPH_OPEN` lub `cv2.MORPH_CLOSE`.\n",
    "10. Zmień obraz _ertka_ na _wyspa_, a następnie na _kolka_. Wykonaj na każdym cztery przedstawione operacje morfologiczne. Zaobserwuj rezultaty.\n",
    "11. Minizadanko: wykorzystując poznane operacje morfologiczne spowoduj, że na obrazie _ertka_ pozostanie tylko napis RT (bez wypustek i dziur).\n",
    "12. Niekiedy potrzebne jest wykrycie konkretnych konfiguracji pikseli na obrazie – przydaje się do tego transformacja trafi, nie trafi (ang. _hit-or-miss_). Pozwala ona wykryć na obrazie obecność elementów, które dokładnie odpowiadają masce.\n",
    "13. Wczytaj obraz hom.bmp. Wyświetl go. Załóżmy, że chcemy wykryć na obrazie krzyżyki 3x3. Zdefiniuj następujący element strukturalny:\n",
    "```\n",
    "[0,1,0]\n",
    "[1,1,1]\n",
    "[0,1,0]\n",
    "```\n",
    "Wykonaj transformację trafi, nie trafi – `cv2.morphologyEx(hom, cv2.MORPH_HITMISS, se1)`. Rezultat operacji wyświetl. Czy udało się zrealizować zadanie? Jeżeli pojawiają się u Państwa błędy związane z typem danych, należy obraz wejściowy przekonwertować na skalę szarości: `cv2.cvtColor(hom, cv2.COLOR_BGR2GRAY)`.\n"
   ]
  },
  {
   "cell_type": "code",
   "metadata": {
    "id": "r375Q-2bKHG1",
    "ExecuteTime": {
     "end_time": "2025-01-21T16:36:46.949026Z",
     "start_time": "2025-01-21T16:36:46.847121Z"
    }
   },
   "source": [
    "import matplotlib.pyplot as plt\n",
    "import cv2\n",
    "import numpy as np\n",
    "import os\n",
    "import requests\n",
    "\n",
    "url = 'https://raw.githubusercontent.com/vision-agh/poc_sw/master/10_Morphology/'\n",
    "\n",
    "fileNames = [\"buzka.bmp\", \"calculator.bmp\", \"ertka.bmp\", \"ferrari.bmp\", \"fingerprint.bmp\", \"hom.bmp\", \"kolka.bmp\", \"kosc.bmp\", \"szkielet.bmp\", \"text.bmp\", \"wyspa.bmp\", \"rice.png\", \"gra.py\"]\n",
    "for fileName in fileNames:\n",
    "  if not os.path.exists(fileName):\n",
    "      r = requests.get(url + fileName, allow_redirects=True)\n",
    "      open(fileName, 'wb').write(r.content)\n",
    "\n",
    "images = {}\n",
    "for fileName in fileNames:\n",
    "    images[fileName] = cv2.imread(fileName, cv2.IMREAD_GRAYSCALE)"
   ],
   "outputs": [],
   "execution_count": 3
  },
  {
   "metadata": {},
   "cell_type": "code",
   "source": [
    "ertka = images[\"ertka.bmp\"].astype(np.int16)\n",
    "ertka_erosion = cv2.erode(ertka, np.ones((3,3)))\n",
    "\n",
    "f, axs = plt.subplots(1, 2, figsize=(10, 10))\n",
    "\n",
    "axs[0].imshow(ertka, 'gray')\n",
    "axs[1].imshow(ertka_erosion, 'gray')"
   ],
   "outputs": [],
   "execution_count": null
  },
  {
   "metadata": {},
   "cell_type": "code",
   "source": [
    "ertka = images[\"ertka.bmp\"].astype(np.int16)\n",
    "circle = cv2.getStructuringElement(cv2.MORPH_ELLIPSE, (3,3))\n",
    "ertka_erosion = cv2.erode(ertka, circle)\n",
    "\n",
    "f, axs = plt.subplots(1, 2, figsize=(10, 10))\n",
    "\n",
    "axs[0].imshow(ertka, 'gray')\n",
    "axs[1].imshow(ertka_erosion, 'gray')"
   ],
   "outputs": [],
   "execution_count": null
  },
  {
   "metadata": {},
   "cell_type": "code",
   "source": [
    "ertka = images[\"ertka.bmp\"].astype(np.int16)\n",
    "square = cv2.getStructuringElement(cv2.MORPH_RECT, (3,3))\n",
    "\n",
    "f, axs = plt.subplots(1, 6, figsize=(25, 25))\n",
    "\n",
    "for i in range(6):\n",
    "    ertka_erosion = cv2.erode(ertka, square, iterations=i)\n",
    "    axs[i].imshow(ertka_erosion, 'gray')\n",
    "    axs[i].set_title(f'Iteracja {i}')"
   ],
   "outputs": [],
   "execution_count": null
  },
  {
   "metadata": {},
   "cell_type": "code",
   "source": [
    "buzka = images[\"buzka.bmp\"].astype(np.int16)\n",
    "struct = np.array([[1, 0, 1],\n",
    "                    [0, 1, 0],\n",
    "                    [1, 0, 1]], dtype=np.uint8)\n",
    "buzka_erosion = cv2.erode(buzka, struct)\n",
    "\n",
    "f, axs = plt.subplots(1, 2, figsize=(10, 10))\n",
    "\n",
    "axs[0].imshow(buzka, 'gray')\n",
    "axs[1].imshow(buzka_erosion, 'gray')"
   ],
   "outputs": [],
   "execution_count": null
  },
  {
   "metadata": {},
   "cell_type": "code",
   "source": [
    "ertka = images[\"ertka.bmp\"].astype(np.int16)\n",
    "struct = np.ones((3,3), dtype=np.uint8)\n",
    "ertka_dilation = cv2.dilate(ertka, struct)\n",
    "\n",
    "f, axs = plt.subplots(1, 2, figsize=(10, 10))\n",
    "\n",
    "axs[0].imshow(ertka, 'gray')\n",
    "axs[1].imshow(ertka_dilation, 'gray')"
   ],
   "outputs": [],
   "execution_count": null
  },
  {
   "metadata": {
    "ExecuteTime": {
     "end_time": "2025-01-21T17:05:34.283677Z",
     "start_time": "2025-01-21T17:05:34.277574Z"
    }
   },
   "cell_type": "code",
   "source": [
    "def plot_effects(img, struct):\n",
    "    img_dilation = cv2.dilate(img, struct)\n",
    "    img_erosion = cv2.erode(img, struct)\n",
    "    img_opening = cv2.morphologyEx(img, cv2.MORPH_OPEN, struct)\n",
    "    img_closing = cv2.morphologyEx(img, cv2.MORPH_CLOSE, struct)\n",
    "    \n",
    "    f, axs = plt.subplots(1, 5, figsize=(25, 25))\n",
    "\n",
    "    axs[0].imshow(img, 'gray')\n",
    "    axs[1].imshow(img_dilation, 'gray')\n",
    "    axs[2].imshow(img_erosion, 'gray')\n",
    "    axs[3].imshow(img_opening, 'gray')\n",
    "    axs[4].imshow(img_closing, 'gray')\n",
    "    axs[0].set_title('Original')\n",
    "    axs[1].set_title('Dilation')\n",
    "    axs[2].set_title('Erosion')\n",
    "    axs[3].set_title('Opening')\n",
    "    axs[4].set_title('Closing')"
   ],
   "outputs": [],
   "execution_count": 48
  },
  {
   "metadata": {},
   "cell_type": "code",
   "source": [
    "ertka = images[\"ertka.bmp\"].astype(np.int16)\n",
    "struct = np.ones((3,3), dtype=np.uint8)\n",
    "plot_effects(ertka, struct)"
   ],
   "outputs": [],
   "execution_count": null
  },
  {
   "metadata": {},
   "cell_type": "code",
   "source": [
    "wyspa = images[\"wyspa.bmp\"].astype(np.int16)\n",
    "struct = np.ones((3,3), dtype=np.uint8)\n",
    "plot_effects(wyspa, struct)"
   ],
   "outputs": [],
   "execution_count": null
  },
  {
   "metadata": {},
   "cell_type": "code",
   "source": [
    "kolka = images[\"kolka.bmp\"].astype(np.int16)\n",
    "struct = np.ones((3,3), dtype=np.uint8)\n",
    "plot_effects(kolka, struct)"
   ],
   "outputs": [],
   "execution_count": null
  },
  {
   "metadata": {},
   "cell_type": "code",
   "source": [
    "ertka = images[\"ertka.bmp\"].astype(np.int16)\n",
    "struct = np.ones((3, 3), dtype=np.uint8)\n",
    "opened = cv2.morphologyEx(ertka, cv2.MORPH_OPEN, struct)\n",
    "closed = cv2.morphologyEx(opened, cv2.MORPH_CLOSE, struct)\n",
    "\n",
    "plt.imshow(closed, 'gray')"
   ],
   "outputs": [],
   "execution_count": null
  },
  {
   "metadata": {},
   "cell_type": "code",
   "source": [
    "ertka = images[\"ertka.bmp\"].astype(np.int16)\n",
    "struct = np.ones((3, 3), dtype=np.uint8)\n",
    "closed = cv2.morphologyEx(ertka, cv2.MORPH_CLOSE, struct)\n",
    "opened = cv2.morphologyEx(closed, cv2.MORPH_OPEN, struct)\n",
    "\n",
    "plt.imshow(opened, 'gray')"
   ],
   "outputs": [],
   "execution_count": null
  },
  {
   "metadata": {},
   "cell_type": "code",
   "source": [
    "hom = images[\"hom.bmp\"]\n",
    "struct = np.array([[0,1,0],\n",
    "                    [1,1,1],\n",
    "                    [0,1,0]], dtype=np.uint8)\n",
    "hitmiss = cv2.morphologyEx(hom, cv2.MORPH_HITMISS, struct)\n",
    "\n",
    "f, axs = plt.subplots(1, 2, figsize=(10, 10))\n",
    "\n",
    "axs[0].imshow(hom, 'gray')\n",
    "axs[1].imshow(hitmiss, 'gray')"
   ],
   "outputs": [],
   "execution_count": null
  },
  {
   "cell_type": "markdown",
   "metadata": {
    "id": "QgLQKgtvKHG2"
   },
   "source": [
    "## Inne operacje morfologiczne\n",
    "Do innych operacji morfologicznych należą między innymi ścienianie (ang. _thinning_), szkieletyzacja (ang. _skeletonization_), rekonstrukcja morfologiczna (ang. _morphological reconstruction_), czyszczenie brzegu (ang. _clearing border_) i uzupełnianie dziur (ang. _filling holes_). W tym rozdziale zostanie zaprezentowana rekonstrukcja morfologiczna.\n",
    "\n",
    "Rekonstrukcja morfologiczna jest operacją trójargumentową. Wymaga podania markera (obrazu, od którego zacznie się transformacja), maski (ograniczenia transformacji) oraz elementu strukturalnego. Operacja polega na wykonywaniu kroków (dopóki w dwóch kolejnych iteracjach nic się nie zmieni):\n",
    "- dylatacja obrazu markera (z danym elementem strukturalnym),\n",
    "- nowy marker = część wspólna dylatacji starego markera i maski.\n",
    "\n",
    "Trzy operacje, które wykorzystują schemat rekonstrukcji to:\n",
    "- otwarcie poprzez rekonstrukcję,\n",
    "- wypełnianie dziur,\n",
    "- czyszczenie brzegu.\n",
    "\n",
    "### Otwarcie poprzez rekonstrukcję:\n",
    "- Wczytaj obraz text.bmp, wyświetl go.\n",
    "- Załóżmy, że chcemy wykryć na obrazie litery, które zawierają długie pionowe fragmenty. W pierwszym podejściu stosujemy morfologiczne otwarcie z maską pionową o wysokości 51 pikseli (taka jest średnia wysokość liter na obrazie – `np.ones((51,1))`. Sprawdź rezultat takiej operacji.\n",
    "- Detekcja wprawdzie sie udała, ale otrzymujemy tylko pionowe kreski.\n",
    "- Rozwiązaniem jest rekonstrukcja – jako marker wybieramy obraz oryginalny poddany erozji. Maskę stanowi obraz oryginalny. Samodzielnie dobierz element strukturalny.\n",
    "- Zaimplementuj rekonstrukcję i porównaj efekt otwarcia i rekonstrukcji.\n"
   ]
  },
  {
   "cell_type": "code",
   "metadata": {
    "id": "6oy1-pqdKHG3"
   },
   "source": [
    "text = images[\"text.bmp\"]\n",
    "struct = np.ones((51,1))\n",
    "opening = cv2.morphologyEx(text, cv2.MORPH_OPEN, struct)\n",
    "\n",
    "def reconstruction(img, erosion_struct, dilation_struct):\n",
    "    img_erosion = cv2.erode(img, erosion_struct)\n",
    "    last = img_erosion\n",
    "    \n",
    "    while True:\n",
    "        img_dilation = cv2.dilate(last, dilation_struct)\n",
    "        reconstructed = cv2.bitwise_and(img_dilation, img)\n",
    "        \n",
    "        difference = cv2.subtract(reconstructed, last)\n",
    "        if not np.any(difference):\n",
    "            break\n",
    "            \n",
    "        last = reconstructed\n",
    "        \n",
    "    return reconstructed\n",
    "\n",
    "dilation_struct = np.ones((3,3))\n",
    "reconstructed = reconstruction(text, struct, dilation_struct)\n",
    "\n",
    "f, axs = plt.subplots(1, 3, figsize=(25, 25))\n",
    "\n",
    "axs[0].imshow(text, 'gray')\n",
    "axs[1].imshow(opening, 'gray')\n",
    "axs[2].imshow(reconstructed, 'gray')"
   ],
   "outputs": [],
   "execution_count": null
  },
  {
   "cell_type": "markdown",
   "metadata": {
    "id": "x_irwB7fKHG3"
   },
   "source": [
    "## Operacje morfologiczne dla obrazów w skali szarości\n",
    "\n",
    "Wszystkie dotychczasowe operacje (oprócz transformacji trafi, nie trafi) mają swoje odpowieniki dla obrazów w skali szarości. Konieczne jest tylko podanie definicji erozji i dylatacji w nieco innej formie:\n",
    "- Erozja – filtr minimalny.\n",
    "- Dylatacja – filtr maksymalny.\n",
    "\n",
    "\n",
    "1. Wczytaj obraz ferrari.bmp i wykonaj operacje morfologiczne: erozję i dylatację. Element strukturalny ustal na kwadrat 3×3. Oblicz też różnicę pomiędzy obrazem po dylatacji a po erozji – czyli tzw. gradient morfologiczny. Rezultaty wyświetl na wspólnym wykresie.\n",
    "2. Otwarcie to tłumienie jasnych detali na obrazie. Zamkniecie to tłumienie ciemnych detali na obrazie. Potwierdź powyższe stwierdzenia wykonując obie operacje na obrazie _ferrari_.\n",
    "3. Wykonaj operacje top-hat i bottom-hat `cv2.morphologyEx(img, cv2.MORPH_TOPHAT, strel)` oraz `cv2.morphologyEx(img, cv2.MORPH_BLACKHAT, strel)` na obrazie _ferrari_. Jakie obszary udało sie wykryć za pomocą tej operacji? Z jakich operacji składa sie filtr top-hat?\n",
    "4. Wczytaj obraz rice.png (z laboratorium o binaryzacji). Wyświetl go. Zwróć uwage na niejednorodne oświetlenie. Wykonaj operacje top-hat z dużym elementem strukturalnym (np. koło o rozmiarze 10) na tym obrazie. Wynik wyświetl. Co stało się z niejednorodnością oświetlenia?"
   ]
  },
  {
   "cell_type": "code",
   "metadata": {
    "pycharm": {
     "name": "#%%\n"
    },
    "id": "jmp6zrXkKHG4"
   },
   "source": [
    "ferrari = images[\"ferrari.bmp\"]\n",
    "struct = np.ones((3,3))\n",
    "ferrari_erosion = cv2.erode(ferrari, struct)\n",
    "ferrari_dilation = cv2.dilate(ferrari, struct)\n",
    "ferrari_gradient = ferrari_dilation - ferrari_erosion\n",
    "\n",
    "f, axs = plt.subplots(1, 4, figsize=(25, 25))\n",
    "\n",
    "axs[0].imshow(ferrari, 'gray')\n",
    "axs[1].imshow(ferrari_erosion, 'gray')\n",
    "axs[2].imshow(ferrari_dilation, 'gray')\n",
    "axs[3].imshow(ferrari_gradient, 'gray')\n",
    "axs[0].set_title('Original')\n",
    "axs[1].set_title('Erosion')\n",
    "axs[2].set_title('Dilation')\n",
    "axs[3].set_title('Gradient')"
   ],
   "outputs": [],
   "execution_count": null
  },
  {
   "metadata": {},
   "cell_type": "code",
   "source": [
    "ferrari = images[\"ferrari.bmp\"]\n",
    "struct = np.ones((3,3))\n",
    "ferrari_top_hat = cv2.morphologyEx(ferrari, cv2.MORPH_TOPHAT, struct)\n",
    "ferrari_bottom_hat = cv2.morphologyEx(ferrari, cv2.MORPH_BLACKHAT, struct)\n",
    "\n",
    "f, axs = plt.subplots(1, 3, figsize=(25, 25))\n",
    "\n",
    "axs[0].imshow(ferrari, 'gray')\n",
    "axs[1].imshow(ferrari_top_hat, 'gray')\n",
    "axs[2].imshow(ferrari_bottom_hat, 'gray')\n",
    "axs[0].set_title('Original')\n",
    "axs[1].set_title('Top-hat')\n",
    "axs[2].set_title('Bottom-hat')"
   ],
   "outputs": [],
   "execution_count": null
  },
  {
   "metadata": {},
   "cell_type": "code",
   "source": [
    "rice = images[\"rice.png\"]\n",
    "struct = cv2.getStructuringElement(cv2.MORPH_ELLIPSE, (10,10))\n",
    "rice_top_hat = cv2.morphologyEx(rice, cv2.MORPH_TOPHAT, struct)\n",
    "rice_bottom_hat = cv2.morphologyEx(rice, cv2.MORPH_BLACKHAT, struct)\n",
    "\n",
    "f, axs = plt.subplots(1, 3, figsize=(20, 20))\n",
    "\n",
    "axs[0].imshow(rice, 'gray')\n",
    "axs[1].imshow(rice_top_hat, 'gray')\n",
    "axs[2].imshow(rice_bottom_hat, 'gray')\n",
    "axs[0].set_title('Original')\n",
    "axs[1].set_title('Top-hat')\n",
    "axs[2].set_title('Bottom-hat')"
   ],
   "outputs": [],
   "execution_count": null
  },
  {
   "metadata": {},
   "cell_type": "code",
   "outputs": [],
   "execution_count": null,
   "source": ""
  },
  {
   "cell_type": "markdown",
   "metadata": {
    "id": "qIwoiXs-KHG4"
   },
   "source": [
    "## Przykład zastosowania morfologii\n",
    "\n",
    "1. Wczytaj obraz calculator.bmp. Wyświetl go. Zadanie do realizacji: wyizolować tekst na klawiszach kalkulatora.\n",
    "2. W pierwszym kroku usunięte zostaną poziome odbicia znajdujące się na górnej krawędzi każdego z klawiszy. Wykorzystamy fakt, że odbicie jest dłuższe niż jakikolwiek pojedynczy znak. Wykonujemy otwarcie przez rekonstrukcję (można wykorzystać kod z wcześniejszego zadania, ale tym razem mamy do czynienia z obrazem w skali szarości zamiast z binarnym – proszę się zastanowić, jaka operacja jest odpowiednikiem operacji AND?):\n",
    "  - początkowo wykonujemy erozję z elementem strukturalnym w postaci poziomej linii — `np.ones((1,71))`,\n",
    "  - następnie dokonujemy rekonstrukcji: marker – obraz po erozji, maska – obraz oryginalny,\n",
    "  - wynik operacji wyświetl. Dla porównania wyświetl wynik klasycznego otwarcia z takim samym elementem strukturalnym. W czym otwarcie przez rekonstrukcję jest lepsze od klasycznego?\n",
    "3. W poprzednim kroku (tj. w wyniku otwarcia przez rekonstrukcję) uzyskaliśmy obraz tła. Należy go teraz odjąć od obrazu oryginalnego. Ten rodzaj operacji można nazwać top-hat poprzez rekonstrukcję. Wynik wyświetl. Dla porównania wyświetl wynik klasycznej operacji top-hat – różnicy miedzy obrazem oryginalnym a obrazem po klasycznym otwarciu.\n",
    "4. W podobny sposób należy zlikwidować odblaski pionowe:\n",
    "  - erozja z elementem strukturalnym w postaci poziomej linii – `np.ones((1,11))` – zostaną zachowane wszystkie znaki (bo prawie wszystkie są szersze). Uwaga. Operacje wykonujemy na uzyskanym w kroku 3 rezultacie odjęcia od obrazu oryginalnego, obrazu po rekonstrukcji.\n",
    "  - rekonstrukcja: marker – obraz po erozji, maska – obraz z punktu 3 (różnica oryginalnego i tła),\n",
    "  - wynik wyświetl.\n",
    "5. Rezultat jest niemal satysfakcjonujący, ale wystąpił problem z cienkimi pionowymi elementami napisów – np. I na klawiszu ASIN. Wykorzystując fakt, że usunięte znaki znajdują się w bezpośrednim sąsiedztwie istniejących znaków wykonujemy następujące operacje:\n",
    "  - dylatacja z elementem `np.ones((1,21))`,\n",
    "  - rekonstrukcja z markerem w postaci – minimum(obraz po dylatacji z punktu powyżej, obraz uzyskany w punkcie 3, tj. różnica oryginalnego i tła) oraz maską – obraz z pkt. 3.\n",
    "6. Rezultat wyświetl. Czy za pomocą zaproponowanych operacji udało się uzyskać zamierzony efekt – ekstrakcję napisów?\n"
   ]
  },
  {
   "cell_type": "code",
   "metadata": {
    "pycharm": {
     "name": "#%%\n"
    },
    "id": "DIy6L9S7KHG5"
   },
   "source": [
    "image = images[\"calculator.bmp\"]\n",
    "\n",
    "def reconstruction(img, erosion_struct, dilation_struct):\n",
    "    img_erosion = cv2.erode(img, erosion_struct)\n",
    "    last = img_erosion\n",
    "    \n",
    "    while True:\n",
    "        img_dilation = cv2.dilate(last, dilation_struct)\n",
    "        reconstructed = cv2.min(img_dilation, img)\n",
    "        \n",
    "        difference = cv2.subtract(reconstructed, last)\n",
    "        if not np.any(difference):\n",
    "            break\n",
    "            \n",
    "        last = reconstructed\n",
    "        \n",
    "    return reconstructed\n",
    "\n",
    "selem_horizontal = np.ones((1, 71), np.uint8)\n",
    "struct = cv2.getStructuringElement(cv2.MORPH_ELLIPSE, (10, 10))\n",
    "reconstructed = reconstruction(image, selem_horizontal, np.ones((3, 3), np.uint8))\n",
    "opened = cv2.morphologyEx(image, cv2.MORPH_OPEN, selem_horizontal)\n",
    "\n",
    "f, axs = plt.subplots(1, 3, figsize=(20, 20))\n",
    "\n",
    "axs[0].imshow(image, 'gray')\n",
    "axs[1].imshow(reconstructed, 'gray')\n",
    "axs[2].imshow(opened, 'gray')\n",
    "axs[0].set_title('Original')\n",
    "axs[1].set_title('Reconstructed')\n",
    "axs[2].set_title('Opened')"
   ],
   "outputs": [],
   "execution_count": null
  },
  {
   "metadata": {},
   "cell_type": "code",
   "source": [
    "top_hat_reconstruction = image - reconstructed\n",
    "top_hat_classic = image - opened\n",
    "\n",
    "f, axs = plt.subplots(1, 2, figsize=(15, 15))\n",
    "\n",
    "axs[0].imshow(top_hat_reconstruction, 'gray')\n",
    "axs[1].imshow(top_hat_classic, 'gray')\n",
    "axs[0].set_title('Top-hat reconstruction')\n",
    "axs[1].set_title('Top-hat classic')"
   ],
   "outputs": [],
   "execution_count": null
  },
  {
   "metadata": {},
   "cell_type": "code",
   "source": [
    "reconstruction_second_top_hat = reconstruction(top_hat_reconstruction, np.ones((1, 11),  np.uint8), struct)\n",
    "reconstruction_second_opened = reconstruction(top_hat_classic, np.ones((1, 11), np.uint8), struct)\n",
    "\n",
    "f, axs = plt.subplots(1, 2, figsize=(15, 15))\n",
    "\n",
    "axs[0].imshow(top_hat_reconstruction, 'gray')\n",
    "axs[1].imshow(reconstruction_second_opened, 'gray')\n",
    "axs[0].set_title('Top-hat reconstruction')\n",
    "axs[1].set_title('Top-hat classic')"
   ],
   "outputs": [],
   "execution_count": null
  },
  {
   "metadata": {},
   "cell_type": "code",
   "source": [
    "dilation_calculator = cv2.dilate(reconstruction_second_top_hat, np.ones((1, 21), np.uint8))\n",
    "res = np.minimum(top_hat_reconstruction, dilation_calculator)\n",
    "\n",
    "plt.imshow(res, 'gray')"
   ],
   "outputs": [],
   "execution_count": null
  },
  {
   "metadata": {},
   "cell_type": "code",
   "outputs": [],
   "execution_count": null,
   "source": ""
  }
 ],
 "metadata": {
  "celltoolbar": "Raw Cell Format",
  "kernelspec": {
   "display_name": "Python 3",
   "language": "python",
   "name": "python3"
  },
  "language_info": {
   "codemirror_mode": {
    "name": "ipython",
    "version": 3
   },
   "file_extension": ".py",
   "mimetype": "text/x-python",
   "name": "python",
   "nbconvert_exporter": "python",
   "pygments_lexer": "ipython3",
   "version": "3.9.0"
  },
  "colab": {
   "provenance": []
  }
 },
 "nbformat": 4,
 "nbformat_minor": 0
}
